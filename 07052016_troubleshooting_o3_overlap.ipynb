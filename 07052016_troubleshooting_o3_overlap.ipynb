{
 "cells": [
  {
   "cell_type": "code",
   "execution_count": 1,
   "metadata": {
    "collapsed": true
   },
   "outputs": [],
   "source": [
    "import numpy as np"
   ]
  },
  {
   "cell_type": "code",
   "execution_count": 4,
   "metadata": {
    "collapsed": true
   },
   "outputs": [],
   "source": [
    "one =('a', 'GGTGCCCATCCTGGTCGAG')\n",
    "two = ('b', 'GGTCGAGCTGGACGG')"
   ]
  },
  {
   "cell_type": "code",
   "execution_count": 5,
   "metadata": {
    "collapsed": false
   },
   "outputs": [],
   "source": [
    "a = np.array([x for x in one[1]])\n",
    "b = np.vstack([x for x in two[1]])\n",
    "compared = a==b"
   ]
  },
  {
   "cell_type": "code",
   "execution_count": 7,
   "metadata": {
    "collapsed": false
   },
   "outputs": [
    {
     "data": {
      "text/plain": [
       "array([[ True,  True, False,  True, False, False, False, False, False,\n",
       "        False, False, False,  True,  True, False, False,  True, False,\n",
       "         True],\n",
       "       [ True,  True, False,  True, False, False, False, False, False,\n",
       "        False, False, False,  True,  True, False, False,  True, False,\n",
       "         True],\n",
       "       [False, False,  True, False, False, False, False, False,  True,\n",
       "        False, False,  True, False, False,  True, False, False, False,\n",
       "        False],\n",
       "       [False, False, False, False,  True,  True,  True, False, False,\n",
       "         True,  True, False, False, False, False,  True, False, False,\n",
       "        False],\n",
       "       [ True,  True, False,  True, False, False, False, False, False,\n",
       "        False, False, False,  True,  True, False, False,  True, False,\n",
       "         True],\n",
       "       [False, False, False, False, False, False, False,  True, False,\n",
       "        False, False, False, False, False, False, False, False,  True,\n",
       "        False],\n",
       "       [ True,  True, False,  True, False, False, False, False, False,\n",
       "        False, False, False,  True,  True, False, False,  True, False,\n",
       "         True],\n",
       "       [False, False, False, False,  True,  True,  True, False, False,\n",
       "         True,  True, False, False, False, False,  True, False, False,\n",
       "        False],\n",
       "       [False, False,  True, False, False, False, False, False,  True,\n",
       "        False, False,  True, False, False,  True, False, False, False,\n",
       "        False],\n",
       "       [ True,  True, False,  True, False, False, False, False, False,\n",
       "        False, False, False,  True,  True, False, False,  True, False,\n",
       "         True],\n",
       "       [ True,  True, False,  True, False, False, False, False, False,\n",
       "        False, False, False,  True,  True, False, False,  True, False,\n",
       "         True],\n",
       "       [False, False, False, False, False, False, False,  True, False,\n",
       "        False, False, False, False, False, False, False, False,  True,\n",
       "        False],\n",
       "       [False, False, False, False,  True,  True,  True, False, False,\n",
       "         True,  True, False, False, False, False,  True, False, False,\n",
       "        False],\n",
       "       [ True,  True, False,  True, False, False, False, False, False,\n",
       "        False, False, False,  True,  True, False, False,  True, False,\n",
       "         True],\n",
       "       [ True,  True, False,  True, False, False, False, False, False,\n",
       "        False, False, False,  True,  True, False, False,  True, False,\n",
       "         True]], dtype=bool)"
      ]
     },
     "execution_count": 7,
     "metadata": {},
     "output_type": "execute_result"
    }
   ],
   "source": [
    "compared"
   ]
  },
  {
   "cell_type": "code",
   "execution_count": 15,
   "metadata": {
    "collapsed": true
   },
   "outputs": [],
   "source": [
    "offset = len(one[1]) - 3"
   ]
  },
  {
   "cell_type": "code",
   "execution_count": 16,
   "metadata": {
    "collapsed": true
   },
   "outputs": [],
   "source": [
    "endsmatch = np.diagonal(compared, offset=-(offset-1))"
   ]
  },
  {
   "cell_type": "code",
   "execution_count": 17,
   "metadata": {
    "collapsed": false
   },
   "outputs": [
    {
     "data": {
      "text/plain": [
       "array([], dtype=bool)"
      ]
     },
     "execution_count": 17,
     "metadata": {},
     "output_type": "execute_result"
    }
   ],
   "source": [
    "endsmatch"
   ]
  },
  {
   "cell_type": "code",
   "execution_count": 19,
   "metadata": {
    "collapsed": false
   },
   "outputs": [
    {
     "data": {
      "text/plain": [
       "19"
      ]
     },
     "execution_count": 19,
     "metadata": {},
     "output_type": "execute_result"
    }
   ],
   "source": [
    "len(one[1])"
   ]
  },
  {
   "cell_type": "code",
   "execution_count": 20,
   "metadata": {
    "collapsed": false
   },
   "outputs": [
    {
     "data": {
      "text/plain": [
       "array([ True, False, False], dtype=bool)"
      ]
     },
     "execution_count": 20,
     "metadata": {},
     "output_type": "execute_result"
    }
   ],
   "source": [
    "otherendsmatch = np.diagonal(compared, offset=offset)\n",
    "otherendsmatch"
   ]
  },
  {
   "cell_type": "code",
   "execution_count": 23,
   "metadata": {
    "collapsed": false
   },
   "outputs": [
    {
     "data": {
      "text/plain": [
       "12"
      ]
     },
     "execution_count": 23,
     "metadata": {},
     "output_type": "execute_result"
    }
   ],
   "source": [
    "otheroffset = len(two[1]) - 3\n",
    "otheroffset"
   ]
  },
  {
   "cell_type": "code",
   "execution_count": 24,
   "metadata": {
    "collapsed": false
   },
   "outputs": [
    {
     "data": {
      "text/plain": [
       "array([ True,  True,  True,  True,  True,  True,  True], dtype=bool)"
      ]
     },
     "execution_count": 24,
     "metadata": {},
     "output_type": "execute_result"
    }
   ],
   "source": [
    "np.diagonal(compared, offset=otheroffset)"
   ]
  },
  {
   "cell_type": "code",
   "execution_count": null,
   "metadata": {
    "collapsed": true
   },
   "outputs": [],
   "source": []
  }
 ],
 "metadata": {
  "kernelspec": {
   "display_name": "Python 3",
   "language": "python",
   "name": "python3"
  },
  "language_info": {
   "codemirror_mode": {
    "name": "ipython",
    "version": 3
   },
   "file_extension": ".py",
   "mimetype": "text/x-python",
   "name": "python",
   "nbconvert_exporter": "python",
   "pygments_lexer": "ipython3",
   "version": "3.4.4"
  }
 },
 "nbformat": 4,
 "nbformat_minor": 0
}
