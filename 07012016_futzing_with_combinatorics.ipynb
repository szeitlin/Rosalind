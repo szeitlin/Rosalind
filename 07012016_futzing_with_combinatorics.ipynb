{
 "cells": [
  {
   "cell_type": "code",
   "execution_count": 7,
   "metadata": {
    "collapsed": true
   },
   "outputs": [],
   "source": [
    "import numpy as np"
   ]
  },
  {
   "cell_type": "code",
   "execution_count": 76,
   "metadata": {
    "collapsed": false
   },
   "outputs": [
    {
     "data": {
      "text/plain": [
       "(['A', 'A', 'T', 'C', 'C', 'C'], ['G', 'G', 'T', 'G', 'A', 'A', 'T'])"
      ]
     },
     "execution_count": 76,
     "metadata": {},
     "output_type": "execute_result"
    }
   ],
   "source": [
    "a = [x for x in \"AATCCC\"]\n",
    "b = [x for x in \"GGTGAAT\"]\n",
    "a, b"
   ]
  },
  {
   "cell_type": "code",
   "execution_count": 77,
   "metadata": {
    "collapsed": false
   },
   "outputs": [
    {
     "data": {
      "text/plain": [
       "array(['A', 'A', 'T', 'C', 'C', 'C'], \n",
       "      dtype='<U1')"
      ]
     },
     "execution_count": 77,
     "metadata": {},
     "output_type": "execute_result"
    }
   ],
   "source": [
    "x = np.array(a)\n",
    "x"
   ]
  },
  {
   "cell_type": "code",
   "execution_count": 78,
   "metadata": {
    "collapsed": false
   },
   "outputs": [
    {
     "data": {
      "text/plain": [
       "array([['G'],\n",
       "       ['G'],\n",
       "       ['T'],\n",
       "       ['G'],\n",
       "       ['A'],\n",
       "       ['A'],\n",
       "       ['T']], \n",
       "      dtype='<U1')"
      ]
     },
     "execution_count": 78,
     "metadata": {},
     "output_type": "execute_result"
    }
   ],
   "source": [
    "y = np.array(b)\n",
    "z = np.vstack(y)\n",
    "z"
   ]
  },
  {
   "cell_type": "code",
   "execution_count": 84,
   "metadata": {
    "collapsed": false
   },
   "outputs": [
    {
     "data": {
      "text/plain": [
       "array([array(['A', 'A', 'T', 'C', 'C', 'C'], \n",
       "      dtype='<U1'),\n",
       "       array([['G'],\n",
       "       ['G'],\n",
       "       ['T'],\n",
       "       ['G'],\n",
       "       ['A'],\n",
       "       ['A'],\n",
       "       ['T']], \n",
       "      dtype='<U1')], dtype=object)"
      ]
     },
     "execution_count": 84,
     "metadata": {},
     "output_type": "execute_result"
    }
   ],
   "source": [
    "np.array([x,z])"
   ]
  },
  {
   "cell_type": "code",
   "execution_count": 81,
   "metadata": {
    "collapsed": false
   },
   "outputs": [
    {
     "data": {
      "text/plain": [
       "array([[False, False, False, False, False, False],\n",
       "       [False, False, False, False, False, False],\n",
       "       [False, False,  True, False, False, False],\n",
       "       [False, False, False, False, False, False],\n",
       "       [ True,  True, False, False, False, False],\n",
       "       [ True,  True, False, False, False, False],\n",
       "       [False, False,  True, False, False, False]], dtype=bool)"
      ]
     },
     "execution_count": 81,
     "metadata": {},
     "output_type": "execute_result"
    }
   ],
   "source": [
    "compare = x == z\n",
    "compare"
   ]
  },
  {
   "cell_type": "code",
   "execution_count": 83,
   "metadata": {
    "collapsed": false
   },
   "outputs": [
    {
     "data": {
      "text/plain": [
       "True"
      ]
     },
     "execution_count": 83,
     "metadata": {},
     "output_type": "execute_result"
    }
   ],
   "source": [
    "endsmatch = np.diagonal(compare, offset=-4)\n",
    "endsmatch.all()"
   ]
  },
  {
   "cell_type": "code",
   "execution_count": 69,
   "metadata": {
    "collapsed": false
   },
   "outputs": [
    {
     "data": {
      "text/plain": [
       "(['A', 'A', 'T', 'C', 'C', 'C'], ['A', 'A', 'C', 'G', 'C', 'A', 'A'])"
      ]
     },
     "execution_count": 69,
     "metadata": {},
     "output_type": "execute_result"
    }
   ],
   "source": [
    "c = [x for x in \"AATCCC\"]\n",
    "d = [x for x in \"AACGCAA\"]\n",
    "c, d"
   ]
  },
  {
   "cell_type": "code",
   "execution_count": 70,
   "metadata": {
    "collapsed": true
   },
   "outputs": [],
   "source": [
    "e = np.array(a)\n",
    "f = np.vstack(b)"
   ]
  },
  {
   "cell_type": "code",
   "execution_count": 71,
   "metadata": {
    "collapsed": false
   },
   "outputs": [
    {
     "data": {
      "text/plain": [
       "(array(['A', 'A', 'T', 'C', 'C', 'C'], \n",
       "       dtype='<U1'), array([['A'],\n",
       "        ['A'],\n",
       "        ['C'],\n",
       "        ['G'],\n",
       "        ['C'],\n",
       "        ['A'],\n",
       "        ['A']], \n",
       "       dtype='<U1'))"
      ]
     },
     "execution_count": 71,
     "metadata": {},
     "output_type": "execute_result"
    }
   ],
   "source": [
    "e,f"
   ]
  },
  {
   "cell_type": "code",
   "execution_count": 72,
   "metadata": {
    "collapsed": false
   },
   "outputs": [
    {
     "data": {
      "text/plain": [
       "array([[ True,  True, False, False, False, False],\n",
       "       [ True,  True, False, False, False, False],\n",
       "       [False, False, False,  True,  True,  True],\n",
       "       [False, False, False, False, False, False],\n",
       "       [False, False, False,  True,  True,  True],\n",
       "       [ True,  True, False, False, False, False],\n",
       "       [ True,  True, False, False, False, False]], dtype=bool)"
      ]
     },
     "execution_count": 72,
     "metadata": {},
     "output_type": "execute_result"
    }
   ],
   "source": [
    "compared = e==f\n",
    "compared"
   ]
  },
  {
   "cell_type": "code",
   "execution_count": 87,
   "metadata": {
    "collapsed": false
   },
   "outputs": [
    {
     "data": {
      "text/plain": [
       "array([False,  True, False], dtype=bool)"
      ]
     },
     "execution_count": 87,
     "metadata": {},
     "output_type": "execute_result"
    }
   ],
   "source": [
    "nodiag = np.diagonal(compared, offset=-4)\n",
    "nodiag"
   ]
  },
  {
   "cell_type": "code",
   "execution_count": 85,
   "metadata": {
    "collapsed": false
   },
   "outputs": [
    {
     "data": {
      "text/plain": [
       "array([[ True,  True, False, False, False, False],\n",
       "       [ True,  True, False, False, False, False],\n",
       "       [False, False,  True, False, False, False],\n",
       "       [False, False, False, False, False, False],\n",
       "       [False, False, False,  True,  True,  True],\n",
       "       [ True,  True, False, False, False, False],\n",
       "       [ True,  True, False, False, False, False]], dtype=bool)"
      ]
     },
     "execution_count": 85,
     "metadata": {},
     "output_type": "execute_result"
    }
   ],
   "source": [
    "g = [x for x in \"AATCCC\"]\n",
    "h = [x for x in \"AATGCAA\"]\n",
    "k = np.array(g)\n",
    "m = np.vstack(h)\n",
    "wrongend = k==m\n",
    "wrongend"
   ]
  },
  {
   "cell_type": "code",
   "execution_count": 88,
   "metadata": {
    "collapsed": false
   },
   "outputs": [
    {
     "data": {
      "text/plain": [
       "array([False,  True, False], dtype=bool)"
      ]
     },
     "execution_count": 88,
     "metadata": {},
     "output_type": "execute_result"
    }
   ],
   "source": [
    "wrongdiag = np.diagonal(wrongend, offset=-4)\n",
    "wrongdiag"
   ]
  },
  {
   "cell_type": "code",
   "execution_count": 89,
   "metadata": {
    "collapsed": false
   },
   "outputs": [
    {
     "data": {
      "text/plain": [
       "array([[False, False, False,  True,  True,  True],\n",
       "       [False, False, False,  True,  True,  True],\n",
       "       [False, False, False,  True,  True,  True],\n",
       "       [False, False, False, False, False, False],\n",
       "       [False, False, False, False, False, False],\n",
       "       [False, False, False, False, False, False]], dtype=bool)"
      ]
     },
     "execution_count": 89,
     "metadata": {},
     "output_type": "execute_result"
    }
   ],
   "source": [
    "s = np.array([x for x in \"AATCCC\"])\n",
    "t = np.vstack([x for x in \"CCCGGG\"])\n",
    "otherend = s==t\n",
    "otherend"
   ]
  },
  {
   "cell_type": "code",
   "execution_count": 99,
   "metadata": {
    "collapsed": false
   },
   "outputs": [
    {
     "data": {
      "text/plain": [
       "array([ True,  True,  True], dtype=bool)"
      ]
     },
     "execution_count": 99,
     "metadata": {},
     "output_type": "execute_result"
    }
   ],
   "source": [
    "upperright = np.diagonal(otherend, offset=3)\n",
    "upperright"
   ]
  },
  {
   "cell_type": "code",
   "execution_count": null,
   "metadata": {
    "collapsed": true
   },
   "outputs": [],
   "source": [
    "#question: how to ensure using the correct diagonal regardless of sequence length?"
   ]
  }
 ],
 "metadata": {
  "kernelspec": {
   "display_name": "Python 3",
   "language": "python",
   "name": "python3"
  },
  "language_info": {
   "codemirror_mode": {
    "name": "ipython",
    "version": 3
   },
   "file_extension": ".py",
   "mimetype": "text/x-python",
   "name": "python",
   "nbconvert_exporter": "python",
   "pygments_lexer": "ipython3",
   "version": "3.4.4"
  }
 },
 "nbformat": 4,
 "nbformat_minor": 0
}
