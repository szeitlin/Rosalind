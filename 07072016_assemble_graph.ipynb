{
 "cells": [
  {
   "cell_type": "code",
   "execution_count": 82,
   "metadata": {
    "collapsed": true
   },
   "outputs": [],
   "source": [
    "listoftuples = [('a', 'b'), ('b','c'), ('c', 'd'), ('d', 'end')]"
   ]
  },
  {
   "cell_type": "code",
   "execution_count": 83,
   "metadata": {
    "collapsed": true
   },
   "outputs": [],
   "source": [
    "    order = []\n",
    "    findthis = 'end'"
   ]
  },
  {
   "cell_type": "code",
   "execution_count": 99,
   "metadata": {
    "collapsed": false
   },
   "outputs": [],
   "source": [
    "def sort_edges(edgelist, findthis='end'):\n",
    "\n",
    "    for i in range(len(edgelist)):\n",
    "        for item in edgelist:\n",
    "            print(\"item: {}, findthis: {}\".format(item, findthis))\n",
    "            if findthis in item:\n",
    "                print(\"found!\")\n",
    "                if findthis not in order:\n",
    "                    order.insert(0, findthis)\n",
    "                findthis = item[0]\n",
    "                \n",
    "                if len(edgelist) == 1:\n",
    "                    if edgelist[0][0] not in order:\n",
    "                        order.insert(0, edgelist[0][0]) \n",
    "                else:\n",
    "                    edgelist.remove(item)\n",
    "\n",
    "    return order"
   ]
  },
  {
   "cell_type": "code",
   "execution_count": 85,
   "metadata": {
    "collapsed": false
   },
   "outputs": [
    {
     "name": "stdout",
     "output_type": "stream",
     "text": [
      "('a', 'b')\n",
      "('b', 'c')\n",
      "('c', 'd')\n",
      "('d', 'end')\n"
     ]
    }
   ],
   "source": [
    "for item in listoftuples:\n",
    "    print(item)"
   ]
  },
  {
   "cell_type": "code",
   "execution_count": 86,
   "metadata": {
    "collapsed": false
   },
   "outputs": [
    {
     "name": "stdout",
     "output_type": "stream",
     "text": [
      "item: ('a', 'b'), findthis: end\n",
      "item: ('b', 'c'), findthis: end\n",
      "item: ('c', 'd'), findthis: end\n",
      "item: ('d', 'end'), findthis: end\n",
      "found!\n",
      "item: ('a', 'b'), findthis: d\n",
      "item: ('b', 'c'), findthis: d\n",
      "item: ('c', 'd'), findthis: d\n",
      "found!\n",
      "item: ('a', 'b'), findthis: c\n",
      "item: ('b', 'c'), findthis: c\n",
      "found!\n",
      "item: ('a', 'b'), findthis: b\n",
      "found!\n"
     ]
    },
    {
     "data": {
      "text/plain": [
       "['a', 'b', 'c', 'd', 'end']"
      ]
     },
     "execution_count": 86,
     "metadata": {},
     "output_type": "execute_result"
    }
   ],
   "source": [
    "sort_edges(listoftuples)"
   ]
  },
  {
   "cell_type": "code",
   "execution_count": 87,
   "metadata": {
    "collapsed": false
   },
   "outputs": [
    {
     "name": "stdout",
     "output_type": "stream",
     "text": [
      "[('a', 'b')]\n"
     ]
    }
   ],
   "source": [
    "print(listoftuples)"
   ]
  },
  {
   "cell_type": "code",
   "execution_count": 100,
   "metadata": {
    "collapsed": true
   },
   "outputs": [],
   "source": [
    "disordered = [('c', 'd'),('a', 'b'), ('b','c')]"
   ]
  },
  {
   "cell_type": "code",
   "execution_count": 101,
   "metadata": {
    "collapsed": true
   },
   "outputs": [],
   "source": [
    "    order = []"
   ]
  },
  {
   "cell_type": "code",
   "execution_count": 102,
   "metadata": {
    "collapsed": false
   },
   "outputs": [
    {
     "name": "stdout",
     "output_type": "stream",
     "text": [
      "item: ('c', 'd'), findthis: d\n",
      "found!\n",
      "item: ('b', 'c'), findthis: c\n",
      "found!\n",
      "item: ('a', 'b'), findthis: b\n",
      "found!\n",
      "item: ('a', 'b'), findthis: a\n",
      "found!\n"
     ]
    },
    {
     "data": {
      "text/plain": [
       "['a', 'b', 'c', 'd']"
      ]
     },
     "execution_count": 102,
     "metadata": {},
     "output_type": "execute_result"
    }
   ],
   "source": [
    "sort_edges(disordered, findthis='d')"
   ]
  },
  {
   "cell_type": "code",
   "execution_count": null,
   "metadata": {
    "collapsed": true
   },
   "outputs": [],
   "source": []
  }
 ],
 "metadata": {
  "kernelspec": {
   "display_name": "Python 3",
   "language": "python",
   "name": "python3"
  },
  "language_info": {
   "codemirror_mode": {
    "name": "ipython",
    "version": 3
   },
   "file_extension": ".py",
   "mimetype": "text/x-python",
   "name": "python",
   "nbconvert_exporter": "python",
   "pygments_lexer": "ipython3",
   "version": "3.4.4"
  }
 },
 "nbformat": 4,
 "nbformat_minor": 0
}
