{
 "cells": [
  {
   "cell_type": "code",
   "execution_count": 23,
   "metadata": {
    "collapsed": false
   },
   "outputs": [],
   "source": [
    "from overlap import (overlap, \n",
    "                     base_counts, \n",
    "                     compare_multiple, \n",
    "                     parse_nodes, \n",
    "                     directional,\n",
    "                     get_base_counts,\n",
    "                     compare_base_counts, \n",
    "                     make_score_dict, \n",
    "                     pick_best_matches)\n",
    "\n",
    "from gc_content import parse_data"
   ]
  },
  {
   "cell_type": "code",
   "execution_count": 6,
   "metadata": {
    "collapsed": true
   },
   "outputs": [],
   "source": [
    "current = ('fake1', 'AAA')\n",
    "overlaps = [('fake2', 'AAA'), ('fake3', 'AAA')]"
   ]
  },
  {
   "cell_type": "code",
   "execution_count": 7,
   "metadata": {
    "collapsed": false
   },
   "outputs": [
    {
     "data": {
      "text/plain": [
       "{(('fake1', 'AAA'), ('fake2', 'AAA')): 1,\n",
       " (('fake1', 'AAA'), ('fake3', 'AAA')): 1}"
      ]
     },
     "execution_count": 7,
     "metadata": {},
     "output_type": "execute_result"
    }
   ],
   "source": [
    "scored_pairs = make_score_dict(current, overlaps)\n",
    "scored_pairs"
   ]
  },
  {
   "cell_type": "code",
   "execution_count": 10,
   "metadata": {
    "collapsed": false
   },
   "outputs": [
    {
     "data": {
      "text/plain": [
       "dict_keys([(('fake1', 'AAA'), ('fake3', 'AAA')), (('fake1', 'AAA'), ('fake2', 'AAA'))])"
      ]
     },
     "execution_count": 10,
     "metadata": {},
     "output_type": "execute_result"
    }
   ],
   "source": [
    "best_pair = pick_best_matches(scored_pairs)\n",
    "best_pair"
   ]
  },
  {
   "cell_type": "code",
   "execution_count": 15,
   "metadata": {
    "collapsed": false
   },
   "outputs": [],
   "source": [
    "directional(current, list(best_pair)[0])"
   ]
  },
  {
   "cell_type": "code",
   "execution_count": 11,
   "metadata": {
    "collapsed": false
   },
   "outputs": [
    {
     "data": {
      "text/plain": [
       "(('fake1', 'AAA'), ('fake3', 'AAA'))"
      ]
     },
     "execution_count": 11,
     "metadata": {},
     "output_type": "execute_result"
    }
   ],
   "source": [
    "current, overlaps[0]"
   ]
  },
  {
   "cell_type": "code",
   "execution_count": 12,
   "metadata": {
    "collapsed": false
   },
   "outputs": [
    {
     "ename": "IndexError",
     "evalue": "list index out of range",
     "output_type": "error",
     "traceback": [
      "\u001b[0;31m---------------------------------------------------------------------------\u001b[0m",
      "\u001b[0;31mIndexError\u001b[0m                                Traceback (most recent call last)",
      "\u001b[0;32m<ipython-input-12-77cdf25941d7>\u001b[0m in \u001b[0;36m<module>\u001b[0;34m()\u001b[0m\n\u001b[0;32m----> 1\u001b[0;31m \u001b[0mcurrent\u001b[0m\u001b[0;34m,\u001b[0m \u001b[0moverlaps\u001b[0m\u001b[0;34m[\u001b[0m\u001b[0;36m1\u001b[0m\u001b[0;34m]\u001b[0m\u001b[0;34m\u001b[0m\u001b[0m\n\u001b[0m",
      "\u001b[0;31mIndexError\u001b[0m: list index out of range"
     ]
    }
   ],
   "source": [
    "current, overlaps[1]"
   ]
  },
  {
   "cell_type": "code",
   "execution_count": 2,
   "metadata": {
    "collapsed": true
   },
   "outputs": [],
   "source": [
    "with open('overlap_sample.txt', 'r') as f:\n",
    "    test = f.readlines()"
   ]
  },
  {
   "cell_type": "code",
   "execution_count": 3,
   "metadata": {
    "collapsed": false
   },
   "outputs": [
    {
     "data": {
      "text/plain": [
       "['>Rosalind_0498\\n',\n",
       " 'AAATAAA\\n',\n",
       " '>Rosalind_2391\\n',\n",
       " 'AAATTTT\\n',\n",
       " '>Rosalind_2323\\n',\n",
       " 'TTTTCCC\\n',\n",
       " '>Rosalind_0442\\n',\n",
       " 'AAATCCC\\n',\n",
       " '>Rosalind_5013\\n',\n",
       " 'GGGTGGG\\n']"
      ]
     },
     "execution_count": 3,
     "metadata": {},
     "output_type": "execute_result"
    }
   ],
   "source": [
    "test"
   ]
  },
  {
   "cell_type": "code",
   "execution_count": 4,
   "metadata": {
    "collapsed": false
   },
   "outputs": [],
   "source": [
    "labeled = parse_nodes(test)"
   ]
  },
  {
   "cell_type": "code",
   "execution_count": 5,
   "metadata": {
    "collapsed": false
   },
   "outputs": [
    {
     "data": {
      "text/plain": [
       "[('Rosalind_0498', 'AAATAAA'),\n",
       " ('Rosalind_2391', 'AAATTTT'),\n",
       " ('Rosalind_2323', 'TTTTCCC'),\n",
       " ('Rosalind_0442', 'AAATCCC'),\n",
       " ('Rosalind_5013', 'GGGTGGG')]"
      ]
     },
     "execution_count": 5,
     "metadata": {},
     "output_type": "execute_result"
    }
   ],
   "source": [
    "labeled"
   ]
  },
  {
   "cell_type": "code",
   "execution_count": 6,
   "metadata": {
    "collapsed": false
   },
   "outputs": [
    {
     "data": {
      "text/plain": [
       "(('Rosalind_0498', 'AAATAAA'),\n",
       " [('Rosalind_2391', 'AAATTTT'), ('Rosalind_0442', 'AAATCCC')])"
      ]
     },
     "execution_count": 6,
     "metadata": {},
     "output_type": "execute_result"
    }
   ],
   "source": [
    "sample = list(compare_multiple(labeled))[0]\n",
    "sample"
   ]
  },
  {
   "cell_type": "code",
   "execution_count": 8,
   "metadata": {
    "collapsed": true
   },
   "outputs": [],
   "source": [
    "one = sample[0]\n",
    "two = sample[1][0]"
   ]
  },
  {
   "cell_type": "code",
   "execution_count": 9,
   "metadata": {
    "collapsed": false
   },
   "outputs": [
    {
     "data": {
      "text/plain": [
       "1"
      ]
     },
     "execution_count": 9,
     "metadata": {},
     "output_type": "execute_result"
    }
   ],
   "source": [
    "score = compare_base_counts(one, two)\n",
    "score"
   ]
  },
  {
   "cell_type": "code",
   "execution_count": 10,
   "metadata": {
    "collapsed": true
   },
   "outputs": [],
   "source": [
    "three = sample[1][1]"
   ]
  },
  {
   "cell_type": "code",
   "execution_count": 11,
   "metadata": {
    "collapsed": false
   },
   "outputs": [
    {
     "data": {
      "text/plain": [
       "2"
      ]
     },
     "execution_count": 11,
     "metadata": {},
     "output_type": "execute_result"
    }
   ],
   "source": [
    "score2 = compare_base_counts(one, three)\n",
    "score2"
   ]
  },
  {
   "cell_type": "code",
   "execution_count": 13,
   "metadata": {
    "collapsed": false
   },
   "outputs": [
    {
     "name": "stdout",
     "output_type": "stream",
     "text": [
      "{'2': 2, '1': 0, '3': 4}\n"
     ]
    }
   ],
   "source": [
    "testdict = {'1':0, '2':2, '3':4}\n",
    "print(testdict)"
   ]
  },
  {
   "cell_type": "code",
   "execution_count": 16,
   "metadata": {
    "collapsed": false
   },
   "outputs": [
    {
     "data": {
      "text/plain": [
       "[('1', 0), ('2', 2), ('3', 4)]"
      ]
     },
     "execution_count": 16,
     "metadata": {},
     "output_type": "execute_result"
    }
   ],
   "source": [
    "import operator\n",
    "sorted(testdict.items(), key=operator.itemgetter(1))"
   ]
  },
  {
   "cell_type": "code",
   "execution_count": 18,
   "metadata": {
    "collapsed": false
   },
   "outputs": [
    {
     "name": "stdout",
     "output_type": "stream",
     "text": [
      "yes\n",
      "no\n"
     ]
    }
   ],
   "source": [
    "for x,y in zipped:\n",
    "    if x==y:\n",
    "        print('yes')\n",
    "    else:\n",
    "        print('no')"
   ]
  },
  {
   "cell_type": "code",
   "execution_count": 38,
   "metadata": {
    "collapsed": true
   },
   "outputs": [],
   "source": [
    "with open('rosalind_grph.txt', 'r') as f:\n",
    "    data = f.readlines()"
   ]
  },
  {
   "cell_type": "code",
   "execution_count": 39,
   "metadata": {
    "collapsed": false
   },
   "outputs": [
    {
     "name": "stdout",
     "output_type": "stream",
     "text": [
      "[('Rosalind_3496', 'TCATTAGGTACCAAGATGCGGGCTGAGCGCCCCGTTGTCAATGATCAGTGAGGATCCCTCATCTAATTGCATGTGTGACGACCA'), ('Rosalind_9424', 'CCCCTTGCGAGATACTGTTGCGTCCGTGTGCCGAATGATGTATTTCGCCGATTAAGCTTTGGCGAAAGGACTCGCCGTGGTCCGGGCCCTC'), ('Rosalind_9942', 'GGTAACTTGAGCCCTCTTAGTGGACTTAGTTATGTGCTATGTGGGGCAGCTTTTGTAATGACAACAAGCACCCCAAGCAGAC'), ('Rosalind_8784', 'TGAGCCACGACCCGTTGTCACGGGTGCGTCATTACAGCATCTGCGCATGTGTCTGTTCGAAAGGGGGAATGCACTATTCGAGCTATGTCGTCA'), ('Rosalind_2220', 'CCCACGGGCTGGTCAACGAAATTCCGCTGGCATTCGTTGGCGTAGTGCGGATCATGGGAGACAACCCAGAGCCCTGAGCGAGGGTGGTAGGTCCTAAG'), ('Rosalind_7004', 'ATTTAAGACGGCAAAGTTGCAAAGGGGCTCCAACCATTTAGGCTGACGAGTAGGGTGTGAGACCGCGGAGTAGACCTCCAGGAACAACCAAGTTAGCTA'), ('Rosalind_2801', 'CGTCCCTACTTCGGCAGGCGTTTTTCCAGGACTCAGCTTGCTTGGGGGTAAATAAATGCTGTGAATGATGCATGACCCCTGAGTAAGC'), ('Rosalind_7077', 'ACGCGTCACGTTCTGCAATAGGCCCGGTGGTTTCTAATTGGAAAGGGGTACGTGCATCTGGGGGGACAGAGGCGCGGCATACACTCGACG'), ('Rosalind_6034', 'CTCGTTAGTGCAAAGGTCCCGGGGGCATCGGCCTCACTGATACTTTTAGCACGGACATTACATATTTTTACCTACACTAGCACTGGTAACGCAGATTGT'), ('Rosalind_0099', 'GCTTGACTTTTCTCCTTAGCTCAGTGACCCTATGTTGTAGATCCTCTGTAGCGGCCAAGTTCGTTAATCTGCGTCAATAGAATTGCCCCGTGGGCG'), ('Rosalind_2197', 'CCAGTGGTGGTTCGAGTTGGGTAGTGAGACACCGGAAGAGCCAAAGTCATTGATTTATGGAAGATGTGGACTTGGCTTGAAGGGCGAAGC'), ('Rosalind_2263', 'CTCGATTGCCTTTCTTACGCTCGCTCTCATTGGTTTTGAGCTTCAGCGTGGCAATGGTAGGCTCGTGCAAACAACTCGGTCACGTTAAGGAACA'), ('Rosalind_9139', 'CGTGATCTTGCCTCCATCAGTGCCATGAACCTATGCTTACGCGTTCGGGTCTGGCTAAGGATGGCGCCCAGTTGTAGATATCATAGTACCCCGCAAAAC'), ('Rosalind_0701', 'TGAGTTTGCCAACAGTTCGAGTTCGCTTGGTACAGGGGCAAACCTCTCCCCTATATATAGTTCTAGTAGTGGATCCTTACTTACTCCTCCAGAGAC'), ('Rosalind_7445', 'CTTGAATTCGATTGAGTGAGTCGGTTCCTGTTGTGCATACCAAGTGCCCAATTGAAGAGATTTTTCTTAGGCTTACACCTTG'), ('Rosalind_5263', 'AATTACAAGGACTTCACATTCCTGTCTTAAGGAACCAGGCTATCTATCGGAGAAGACCTCATTTGCATAATACACCGGCCA'), ('Rosalind_6494', 'AGGGAACTATGCGTAGGCTATCTCCGAGTTAATTTATTCTGCAATTAGGACCAACTCGGCATTGTCAACGTCGAGCCCACGATAGACTGGCAATAACA'), ('Rosalind_7540', 'GCTTGAAAGAGAGCTTCTCCGGGATGCAATCTGATGATGGCCAACGGCCGCGCGAGTAGGGGCCCATAAAGGGAGGAACACGTGAG'), ('Rosalind_1738', 'ATCACTGTCAGTGCTATCTACGCAAGATCAAGATGGTTGTAAACGGCGACCGGAACTGCCGCGGACTGAACTCGAGTTTAGATGATTTGAAAATTGCTGT'), ('Rosalind_8207', 'AATAGACACTAGGCTTCACTTTTGTGTGGAGCTACCGCACATATCTAATGTCCTATTCGATGGCGTCTGACTTGCAGTTAATATCC'), ('Rosalind_9191', 'TCGGGTCGGTACACTTGTAGAAGAGCTCAAGCGTAATGCCATGTACCAAGGTTAAGACGTCAATGGCATGGTGGTGAGCCGCCACATCCAAC'), ('Rosalind_0421', 'TTATCGCAGTTTGTTTGACTATGATAATTACTTAAAGCAGGAGCTGCCATGCGGGGATATGCACGATAGGTAGTGTGCTCCACCCGTTTACTCTTCTT'), ('Rosalind_0878', 'ATGGACTAGGGACTGGGCATGCGGGTTTGTACCTGGGTAGGGTTTTTTGAATTGTCGACGATCGGTCGCATCCATTCTAGAAGTC'), ('Rosalind_2194', 'GTAGCCCAATTATCCGCAGGCTTCGAAACAATCTCGCCCTTGCCTCGGCACTACAGTGCGAGGTTACCTTCTGCCCCAGGACCCGTCCATGCCTACACT'), ('Rosalind_6859', 'GAATAATGCTGTCTAGAACGCTCGTGTATCCAAATTCCCTCGTACGGCTGCTAGTCCGTCACCCTCATAGTTATCCTTGGGCGG'), ('Rosalind_3878', 'GTTAGTAAATAGAGGCCTGACAACTACAGGTGCAGTTTACATTTAACAGTGACGAAATAAGCGACCTATCGCTCGTGTCGCCTGGGGGTTTGC'), ('Rosalind_1550', 'GTCCTTACCCCTTGTTGCAGGGTTGCAAAATTACTGATAGTAACGGGGAGCGACGGGAGTGGCTGGTTATAGGACAGTTAAGCCCGTACCAGTCTC'), ('Rosalind_1188', 'CTTAAGGCCTTTGATATACAGGAAATGGCGTCCTGTATAATCGCCCGCCCGCCCATCTCAACTAAACAATGGTCTTGTGGGTTAAGGTTTAC'), ('Rosalind_7635', 'ATGTCCTCACGCATACGTACAGCCCTTGTTGCCTACAGGGGTGTTAAAAAGGATCCGCCTTTTCCATATAAGGCTAATATTCTTCGT'), ('Rosalind_6508', 'ACTCTTGCCAGTGTCTCGGTCCACAATGATAGTCGAGAGGAACTGAGCCACCTATACTCCTGGCAGAAACACCCGGATAT'), ('Rosalind_4332', 'ACGTTCGCCGTGGACGTTCTTGAGGAAAGTGTGATGACCAGCCGGCAGGGCTTCAGAACCCCGGGTAAACCGGAATGCAC'), ('Rosalind_5708', 'AAACTAATTCCCTCGTCACCAATGGTGCGGGCTGTCTAAAAATACCGGGATTTGCCACCCTCTCAGAGCCAACACTCCCAGTCATGAA'), ('Rosalind_5477', 'CGACATAGGAATCGGCCAGAGAAATTGATGAGTATGCGGATAGTGCCGCGGTGGGCCACATGGTCATTGGACAGGCGCATCTATCTCTGATCTTAAG'), ('Rosalind_0139', 'CACGGTCGCCGTCAAACTACGTTCAGGCCGTACATATCCGGCAGTCTACCAGGGGAGGCGGCCCGATTCCTGTAAGATTGACTGATGGCTGTT'), ('Rosalind_8342', 'AATCCGGCGCACCCTCCAGCAATCCATCAGCTACAGATTGCAAGGACGCGCTCAACGCAGCCTCATGTACTCTCACAAAATCCCGATCCCCCGAGGC'), ('Rosalind_3930', 'CACGAATTGCAAGTCCTCTGTCTGGCTCCCCCACACGTCCTCGCTGGCTAAGGGAGTCTATGATTGGGTAACCACCAAGATGC'), ('Rosalind_9455', 'AAAGCGGCCGTGAGTATATACACTTGTGGCGCCTCTCCAGATATCTTACCCTCGTCACTGCGTACAACTCCGTGTTGCATTCTATTGACATG'), ('Rosalind_7705', 'CGAGGTACTGACACTACAGCAACTTATGGGCTAACTGTTTCCTATCGCAATTCCAGCCCCCAGAGGGCCCTAATCTCGCACCAGACCCTAGTGAGAC'), ('Rosalind_9090', 'TACATCGCTACTGGAATCCGGCCGACTACCACTAAACATACGTGAGGTTAAGTTGCGAGCTCTCCTCACAGTCGGCGAATGATGCACA'), ('Rosalind_5718', 'GGTATAATCGCCAGCAAACTGGTGATTCCGGTTTCTATCACTACAACTATATATCCCAACGCTCGGGGAAGCCCCGCATAATACTTGAGCTCCT'), ('Rosalind_1744', 'GCCGGGCTTTGAAATTGTTTTCCAGATTCCGCCGATGACATGAGTACTTAAACCGGCCTGGATTTTTGCAATCGGAGATCCGTCTATGGCACCCGATA'), ('Rosalind_6669', 'CCTCCGATGCGACAGTCCCACATTCTATAAGCCCCGCGGCTAGATACGACTCAGGACCTATGAGTGGCGAAGTCACGGTGAGGC'), ('Rosalind_4066', 'CAAACAACCTTCTCGCTTTTGGACCCTTAGTGTATTTTGAACCCGACTAGCACTTAAGACGCCCTTCTAACCTGAGTCTCAG'), ('Rosalind_2676', 'GCATGTTATGGTCCAAGCACTGTCGAAACACCCGCCAAGACGGTGAATGATGTATACGCTCACAAGCTTGGATTATCTATGGATGAGAGGACCCGGC'), ('Rosalind_4224', 'GGTAAACGGATATTAAACACTGTCCCCTGGTCGCATAGATGGGCATGTGGTCTTCTGGCAAGCGATCACTGTACGGATTAGCCTACGGGTTCGGGTCTA'), ('Rosalind_5221', 'TACCAGGCGCCCAGGAGACCCACCTTGCGTGACAGGCTAGAGGACTTACTCTCGCGACTCACTCTCGACCCCTCCAATAGCCCCACAT'), ('Rosalind_1195', 'ATCCCAGGACGCTTTCATGTAGCGCATAAGGGGGGCTACGTATTTAAAAAATTGTTCCAGGGCGATATTCTACGTTGCATAAGCTAGC'), ('Rosalind_0192', 'GTTTACTGTAATAACGATCCGGCCGTTACTGAACCCCTACCGTCAAGAGATAATTGAAACTGGTGCATATCGTGGTGAGTCTG'), ('Rosalind_5089', 'AGCCGGACACTATGTTAATTAACTCGCACTAGCCGCATGCTTGCTAACTCCAGACGCAAAATTGCGCATCATATCACCAGGGTTGGTCATT'), ('Rosalind_1255', 'CTCGTACGAGTCGCACTTTAACTAGTTTTCGAAGCCTTTTCTCTGTGCACTGTCTACTATTCATTGTCAGTTGTCCAAACGGTACTCAAACCGTGTAGA'), ('Rosalind_5444', 'ACCGGGTTCGGGTCTCGAATCAGAGTTTCGCCATAAGTTCAGAAAACCTACCAGATGAGATACGAGGATCGGAATCGTAACCCGATTAGT'), ('Rosalind_6259', 'ATCTAACTAACGCGGAACCTACACATCTATAACAAGCGACTTGGGCACAAAGGCAAAATTCTAAGCGGTTCGTGTGGTTAAAGCATAACGGCTC'), ('Rosalind_7028', 'TGAGGTGCCTATGTCGGTCTTTATTAAAATTGATCACGTGTACGGGTCTCCGCTTCGGTGGAGTATATTCGAAGCCTTAGGCCAAG'), ('Rosalind_9982', 'TTATTTTACAGGCAGGGTTAATCTATTGGATGGGTGCATACAGTTTTTCGTGGCCAGCTGTTCCAACTTTTGCCGCATGCAGCGGCGGTCCACGTC'), ('Rosalind_2376', 'CAAACGGAATCCCTTAGAGAGACCACCTAGCAGACTAAGGGTCCACATATGAACTATGCTACACCACAATCGAAGCTTCTTGATAG'), ('Rosalind_9237', 'TTGGTAACTTAATACAGATCAGCGAATGACCTCCTGGCACACGCAGGTACGGAAAGGGCACTCTTAAAAAGGTAGAAGACAGTAACTACAAAACGATGG'), ('Rosalind_7890', 'GACATGAAAGCTAACCGTACCGTTCTACGTCCGATATAGGATCGTACGATATTCGGCTATGTGACATAATCGTACCCCCTCATCGAC'), ('Rosalind_5508', 'AATGATTCAGCCCTGCACTATACGACCCCCAATGTGTGATTCGGCGTTCGTTTACTTAAAGGCGGGGGAGTATACGATAGCGACGTT'), ('Rosalind_2615', 'CGTTAATTACGATCCAGTCCGTGGCGGTCCCCTAAGGTTGTAATTGCTAGTGCTAGCAAACCTACTCGGGGTCCACTATGCCTT'), ('Rosalind_1678', 'GCTACACCTGAGGCAAGCCCTTCAAAGCTATTTCCAGCAGCGCAACTCCACGGCTTTTTTTTCATTATGTGACTCCCCTCA'), ('Rosalind_6548', 'GCGAGAGTTGGCCCAGTGATATTCATCTCGCTGTGATACTGAACGGATATCCCCTTGTACCTGACACCACGTTTCCAGCCCTT'), ('Rosalind_2403', 'ACATCAGTATCTGTAGGCTAGTTAGATGTGCCATATACTTGTCGTTTAATAAGTCTTGCTCGTACGGTTGCATAATGTGAACTGC'), ('Rosalind_7227', 'GCCTAATCTCACATCCGGCTACCTGTTGTACATTAAGGCGTCCGATTCGCAGGCAGCAGAATACCGGCCTCCACTCGGCCCCAA'), ('Rosalind_9135', 'TAGATCTTCTAGGCGTATCTAGACACTGTGTTCACAATAGTTCGTCTCTTTCCTGGGCATCTTTTAGAAGGACAACAAGAATCATCATTCG'), ('Rosalind_1354', 'TCGCCCGTGCATGGTTCGGCCCGAGTATTGGATTCACGCGTAATCCAACAAGCCCCCGCGGCGATACATACGTGATCTAACCAGCGAATCC'), ('Rosalind_8723', 'GGAAATGTCGCCCTCTGTCGTTCTACAATTAATTAGACAGAGACAACAGCTCAAGGGGGTCGTTTGTACGTCATACCATGGCAGACATCCATTT'), ('Rosalind_9050', 'TATCACAAGCAGAAGAACTATTCGGGTTGTATGGCCGGAATTACCGCACCACCGCGGGCTGCGATGGTCTTTTATATCGTATGGTCTCCCTAACATGCGG'), ('Rosalind_3906', 'GTGTGACACACAGTCTCCTGAATTCAAGTCTGGCTTGAACCAATTACACCTATACCCATCCGTTAAGTGGCGGACTAGTGACATAGAATACCAACTCGA'), ('Rosalind_2251', 'TCAGTGGGTATGTCAATTGCATTTAGGCCGGATTGTATAGCGCAGGAATTGCAAGATGCAGTATAGATAAACAGATCTCC'), ('Rosalind_8118', 'GATACGGTAGATAAGAAACGCTATTCCGGTCATCCTTGCCTTTTCTGCTGTTATGCGTCTGGTATTACGCCTCGCCGACTGTGTCTTTAGCTGGAAATCC'), ('Rosalind_8745', 'ATGGGGTCGACGCTGGCTTTCCACGCACCGCCTTAAGGTCGTGTTCGAGATGTGCCGCGCATTTTTAATTTACGTTAGTTTAT'), ('Rosalind_9618', 'GAGATCCTCTTGAGCGTGATCTGGACGAGCCGATAGGTACCCTCTCCAGGAGTTGCATTACAGGGCGTCGAGCAATCCACGTCTTTGCTTCAGGCATAG'), ('Rosalind_9641', 'AAATCGACGTAAGGCTTAGTTGAGATTTGGAGTCACGAACGCGCTCCGGGTCGTCCAGAATCGCGCCCGACGAATAGGCGTCA'), ('Rosalind_2375', 'CGGTTGATTCCGATCCGTTTTGCCACATCTTCACGATAGGTGGGCACTTCCGCCGGCTCGTAGCCAATTCCCTCTAGGCTGTGACAACC'), ('Rosalind_4146', 'ATTAGTCCTCAATTAGGGGATGATTTAATGCCGGCTTGTCGCCTTGTTCGTAGGGGGTGTCTTAGTGACGGTCCTTAGGGGGG'), ('Rosalind_8204', 'GAGTTTGTGGCAATACACGGCGTTACGTGCGTAATATATTGTGAATTTTTGCGTCCGATTTTTACGCGTGGCTGGTAGCGGAACGCGGATGGTA'), ('Rosalind_8961', 'GGCTTCTCTTAAGATCCTTCTACATGCCGCACGGACCAGCACCAGAAGATTAACAGCACATTGGTGATTGCTATCCCACTCCAGGTCTTAGTT'), ('Rosalind_6439', 'ACCTACTTTAGTGATTGGAATCACACCACTTATCGGGATCTACCAGCCGGTCTGTTTCTATTTTGTCGGCCGTGGGTGAGACTAAGTA'), ('Rosalind_9028', 'CGCTACTGCGAGGGGGGCTGTGGGGGGTGATATCGCGTGCGATGACCACACCTTGTCTATTGATGTATGCCCGATGCTCCTAGCCGTCAGGGTA'), ('Rosalind_7025', 'ACGGACAAGGTAATATACCAAAGTAACCAACGTTAAAATGTGGTTTCAGTCCATCTGACTCTTCCCTCTGAAAATAATCGGCTACT'), ('Rosalind_4777', 'TTATATTTTTAAATAGTTATTGGACCCAACATAGGGCTGAACTAAGAGACGTTGTTCCATCAGATGTCACGTTCAGCATACTG'), ('Rosalind_0652', 'CTCTCGTGGTCGTAACTGTTTCGGCGATGCGCCGGCTGTTGTAGTGGGCATACCAGTTTAGTAGGCTCGACCGGTATTTG'), ('Rosalind_6452', 'AGCTTATCTTTACCCGCCTAAGTGTGTCCGCCTGTATCCTAGGTGATCACTTGCCTATGGTGGTTCTTGGGATCATTGGACGTGCTACCCCAAGCGTACA'), ('Rosalind_1160', 'CCTGATACGGACGAGTTATCTACCGTGGTGGAAGTAGCCCTTTTTGATCCTGATCCTGGCCTCGCCGACACTACGATTAATACATT'), ('Rosalind_1424', 'TAATGAGGCGTAGGAGCGTGTAATCGTGTGCTACGGACAAGTAACAGAGTAAGAATTTTTTCTCTACGGTGGAAATGTAGCCCGCAGGGAC'), ('Rosalind_4366', 'GCGTGCGTATTGCGAACCGCCCAGTCTAGTCATGAGACCCCATGTCGGTCGTGCCGACAGCATGCTGTAAGCTGACGGTGATGCGCTAACCGCAG'), ('Rosalind_0491', 'GCTTTCACGGAATTCGTGCCCAATTCCCAACCGTTAGCCTTAGATTGCAGGAGCTCCGTTGCCTTGACATTTTCACTGGCTAGTATCAGG'), ('Rosalind_8326', 'GCTTTGCTCAAAGCTATAAGCGGGGACACTGACACGCATCTACTGGCGTTACGACGAGGGGATCCGCACATCAGCACGCC'), ('Rosalind_6779', 'ACCTTGTCTCAGCCAGAACGGCGTAGCGTTAAATTCCGCCCTCCGTCATAGCGAGATAGCAGACTGGGGCGAATCTGAGAAAGGAAGTACCTACGTACT'), ('Rosalind_4457', 'ACACATTGCCGTTGAAGAAACATATTAAATCATCGCGTTATCAATCAATAGTCTGCCCTTTCCAGAGCAGGTGTTGACAGACCC'), ('Rosalind_4202', 'AGAGGCTTGTCTGGTCCGTTTGCGTTGAGCCTGGCCTGTGATGCATTCCAATATATCACACTCCACGGGCCAGTGGGGGGTAGGCTTATCGGTGAA'), ('Rosalind_0495', 'TTCATCGAACAAGTACTAACTTTACCTTCAAAATGCCGAATCGGAAGCACGAGATCGGCGCTAGATTGGCAAAGTGTGCCGGATGGCTGAGAATTTCTG'), ('Rosalind_1483', 'GAACTCGTACCCGGGATCTCTAGGGGGTATAGGATCTGACACGCTACTGCTGTAATCCTACGGTTATTGCTGGGCATGTAGCAAC'), ('Rosalind_7292', 'CGTTGTGTAAGTTTACGGGTCACTGATAACCGCGTTGACAGTGTAAGGCGACTCATACGACCACGCTCCGTCTTCCAGGCGAACTACCGTGGT'), ('Rosalind_8509', 'CCGGCGGATCACGGGAGATAATACACGTTACTCATGTGTTCCAGCCTATGATTATCGTACTTGCCCCGTTGGGTCAGAAACCCCGCGGTCCAC'), ('Rosalind_3461', 'AGGGTTTAAGAGCACAGGTATAGGGAAAGTCTGGGAACCGGGCGCACTTCTCCGTATGTAGAGCAAACATGACGGCACGCAAAA'), ('Rosalind_7565', 'CCGTGGTCGATCGAGCTGACAGCTGCGCGTCACAGTGTTCGTACAACCTACGTCAAAGTAACTGGACTTCAGCAGAACGA'), ('Rosalind_9019', 'ATGGATCATTTCTTGCACTCATCATTCCGCGACTCCCTCATATGGCCTTCATAAACAACAATCAATGCCTAGATAGTAACG'), ('Rosalind_9576', 'ATCATTTTAGAAGTTGGATGAATACGTACGAAATCAAACGGGGATACACTGAGGAGCAGGTCTATATATCTTTGAAAAGATTTTGCCTA'), ('Rosalind_7316', 'ATATAGGTATGGTGACGATCACCTATCGATGTATGATTAGGCCAGAAGCCTTACAAACACTGGCTACTGTAGTGTCGAGCGTAGCATGTGAGTTT')]\n"
     ]
    }
   ],
   "source": [
    "labeled = list(parse_data(data))\n",
    "print(labeled,)"
   ]
  },
  {
   "cell_type": "code",
   "execution_count": null,
   "metadata": {
    "collapsed": true
   },
   "outputs": [],
   "source": [
    "comparer = compare_multiple(labeled)"
   ]
  },
  {
   "cell_type": "code",
   "execution_count": 28,
   "metadata": {
    "collapsed": false
   },
   "outputs": [],
   "source": [
    "current, overlaps = next(comparer)"
   ]
  },
  {
   "cell_type": "code",
   "execution_count": 29,
   "metadata": {
    "collapsed": false
   },
   "outputs": [],
   "source": [
    "scored_pairs = make_score_dict(current, overlaps)"
   ]
  },
  {
   "cell_type": "code",
   "execution_count": 33,
   "metadata": {
    "collapsed": false
   },
   "outputs": [
    {
     "data": {
      "text/plain": [
       "dict_values([9, 6, 13, 12, 12, 13, 5, 5, 13, 4, 12, 10, 6, 10, 21, 9, 13, 10, 12, 10, 12, 10, 14, 12, 9, 10, 7, 14, 6, 8, 12, 12, 12, 8, 5, 9, 11, 6, 15, 15, 11, 12, 12, 7])"
      ]
     },
     "execution_count": 33,
     "metadata": {},
     "output_type": "execute_result"
    }
   ],
   "source": [
    "scored_pairs.values()"
   ]
  },
  {
   "cell_type": "code",
   "execution_count": 31,
   "metadata": {
    "collapsed": true
   },
   "outputs": [],
   "source": [
    "best_pair = pick_best_matches(scored_pairs)"
   ]
  },
  {
   "cell_type": "code",
   "execution_count": 32,
   "metadata": {
    "collapsed": false
   },
   "outputs": [
    {
     "data": {
      "text/plain": [
       "(('Rosalind_3496',\n",
       "  'TCATTAGGTACCAAGATGCGGGCTGAGCGCCCCGTTGTCAATGATCAGTGAGGATCCCTCATCTAATTGCATGTGTGACGACCA'),\n",
       " ('Rosalind_5221',\n",
       "  'TACCAGGCGCCCAGGAGACCCACCTTGCGTGACAGGCTAGAGGACTTACTCTCGCGACTCACTCTCGACCCCTCCAATAGCCCCACAT'))"
      ]
     },
     "execution_count": 32,
     "metadata": {},
     "output_type": "execute_result"
    }
   ],
   "source": [
    "best_pair"
   ]
  },
  {
   "cell_type": "code",
   "execution_count": 13,
   "metadata": {
    "collapsed": false
   },
   "outputs": [
    {
     "data": {
      "text/plain": [
       "('Rosalind_5804',\n",
       " 'ATGGCAGTCCGAGTTCACGAACCGAATACGTTTAATAGGTAGTCGCCACCACTTAGACGG')"
      ]
     },
     "execution_count": 13,
     "metadata": {},
     "output_type": "execute_result"
    }
   ],
   "source": [
    "current"
   ]
  },
  {
   "cell_type": "code",
   "execution_count": 7,
   "metadata": {
    "collapsed": false
   },
   "outputs": [
    {
     "data": {
      "text/plain": [
       "('Rosalind_2391', 'AAATTTT')"
      ]
     },
     "execution_count": 7,
     "metadata": {},
     "output_type": "execute_result"
    }
   ],
   "source": [
    "overlaps.pop(0)"
   ]
  },
  {
   "cell_type": "code",
   "execution_count": 9,
   "metadata": {
    "collapsed": false
   },
   "outputs": [
    {
     "data": {
      "text/plain": [
       "('Rosalind_0442', 'AAATCCC')"
      ]
     },
     "execution_count": 9,
     "metadata": {},
     "output_type": "execute_result"
    }
   ],
   "source": [
    "overlaps[0]"
   ]
  },
  {
   "cell_type": "code",
   "execution_count": 10,
   "metadata": {
    "collapsed": true
   },
   "outputs": [],
   "source": [
    "names = [x[1:].strip() for x in data[::2]]\n",
    "listofseq = [x.strip() for x in data[1::2]]"
   ]
  },
  {
   "cell_type": "code",
   "execution_count": 8,
   "metadata": {
    "collapsed": false
   },
   "outputs": [
    {
     "data": {
      "text/plain": [
       "[['A3', 'T1', 'A3'],\n",
       " ['A3', 'T4'],\n",
       " ['T4', 'C3'],\n",
       " ['A3', 'T1', 'C3'],\n",
       " ['G3', 'T1', 'G3']]"
      ]
     },
     "execution_count": 8,
     "metadata": {},
     "output_type": "execute_result"
    }
   ],
   "source": [
    "counts = [base_counts(seq) for seq in listofseq]\n",
    "counts"
   ]
  },
  {
   "cell_type": "code",
   "execution_count": 4,
   "metadata": {
    "collapsed": true
   },
   "outputs": [],
   "source": [
    "current = listofseq.pop(0)"
   ]
  },
  {
   "cell_type": "code",
   "execution_count": 5,
   "metadata": {
    "collapsed": false
   },
   "outputs": [
    {
     "data": {
      "text/plain": [
       "[True, True, False, True, False]"
      ]
     },
     "execution_count": 5,
     "metadata": {},
     "output_type": "execute_result"
    }
   ],
   "source": [
    "compare = [(base_counts(current)[-1] == x[0]) for x in counts]\n",
    "compare"
   ]
  },
  {
   "cell_type": "code",
   "execution_count": 12,
   "metadata": {
    "collapsed": false
   },
   "outputs": [
    {
     "data": {
      "text/plain": [
       "[('Rosalind_0498', 'AAATAAA'),\n",
       " ('Rosalind_2391', 'AAATTTT'),\n",
       " ('Rosalind_2323', 'TTTTCCC'),\n",
       " ('Rosalind_0442', 'AAATCCC'),\n",
       " ('Rosalind_5013', 'GGGTGGG')]"
      ]
     },
     "execution_count": 12,
     "metadata": {},
     "output_type": "execute_result"
    }
   ],
   "source": [
    "labeled = [(x,y) for (x,y) in zip(names, listofseq)]\n",
    "labeled"
   ]
  },
  {
   "cell_type": "code",
   "execution_count": 22,
   "metadata": {
    "collapsed": false
   },
   "outputs": [
    {
     "data": {
      "text/plain": [
       "[('Rosalind_2391', ['A3', 'T4']),\n",
       " ('Rosalind_2323', ['T4', 'C3']),\n",
       " ('Rosalind_0442', ['A3', 'T1', 'C3']),\n",
       " ('Rosalind_5013', ['G3', 'T1', 'G3'])]"
      ]
     },
     "execution_count": 22,
     "metadata": {},
     "output_type": "execute_result"
    }
   ],
   "source": [
    "counted = [(x[0], base_counts(x[1])) for x in labeled]\n",
    "counted"
   ]
  },
  {
   "cell_type": "code",
   "execution_count": 14,
   "metadata": {
    "collapsed": false
   },
   "outputs": [
    {
     "data": {
      "text/plain": [
       "('Rosalind_0498', 'AAATAAA')"
      ]
     },
     "execution_count": 14,
     "metadata": {},
     "output_type": "execute_result"
    }
   ],
   "source": [
    "current = labeled.pop(0)\n",
    "current"
   ]
  },
  {
   "cell_type": "code",
   "execution_count": 25,
   "metadata": {
    "collapsed": false
   },
   "outputs": [],
   "source": [
    "compare = [overlap(current[1], x[1]) for x in labeled]"
   ]
  },
  {
   "cell_type": "code",
   "execution_count": 26,
   "metadata": {
    "collapsed": false
   },
   "outputs": [
    {
     "data": {
      "text/plain": [
       "[True, False, True, False]"
      ]
     },
     "execution_count": 26,
     "metadata": {},
     "output_type": "execute_result"
    }
   ],
   "source": [
    "compare"
   ]
  },
  {
   "cell_type": "code",
   "execution_count": 29,
   "metadata": {
    "collapsed": false
   },
   "outputs": [
    {
     "data": {
      "text/plain": [
       "[('Rosalind_2391', True),\n",
       " ('Rosalind_2323', False),\n",
       " ('Rosalind_0442', True),\n",
       " ('Rosalind_5013', False)]"
      ]
     },
     "execution_count": 29,
     "metadata": {},
     "output_type": "execute_result"
    }
   ],
   "source": [
    "compared = [(x,y) for (x,y) in zip([x[0] for x in labeled], compare)]\n",
    "compared"
   ]
  },
  {
   "cell_type": "code",
   "execution_count": 30,
   "metadata": {
    "collapsed": false
   },
   "outputs": [
    {
     "data": {
      "text/plain": [
       "['Rosalind_2391', 'Rosalind_0442']"
      ]
     },
     "execution_count": 30,
     "metadata": {},
     "output_type": "execute_result"
    }
   ],
   "source": [
    "[x[0] for x in compared if x[1] is True]"
   ]
  },
  {
   "cell_type": "code",
   "execution_count": 18,
   "metadata": {
    "collapsed": false
   },
   "outputs": [
    {
     "name": "stdout",
     "output_type": "stream",
     "text": [
      "(1, 2)\n"
     ]
    }
   ],
   "source": [
    "tup = (1,2)\n",
    "print(tup)"
   ]
  },
  {
   "cell_type": "code",
   "execution_count": 19,
   "metadata": {
    "collapsed": false
   },
   "outputs": [
    {
     "ename": "AttributeError",
     "evalue": "'dict' object has no attribute 'format'",
     "output_type": "error",
     "traceback": [
      "\u001b[0;31m---------------------------------------------------------------------------\u001b[0m",
      "\u001b[0;31mAttributeError\u001b[0m                            Traceback (most recent call last)",
      "\u001b[0;32m<ipython-input-19-9346ab907a31>\u001b[0m in \u001b[0;36m<module>\u001b[0;34m()\u001b[0m\n\u001b[0;32m----> 1\u001b[0;31m \u001b[0mprint\u001b[0m\u001b[0;34m(\u001b[0m\u001b[0;34m{\u001b[0m\u001b[0;34m}\u001b[0m\u001b[0;34m.\u001b[0m\u001b[0mformat\u001b[0m\u001b[0;34m(\u001b[0m\u001b[0mtup\u001b[0m\u001b[0;34m)\u001b[0m\u001b[0;34m)\u001b[0m\u001b[0;34m\u001b[0m\u001b[0m\n\u001b[0m",
      "\u001b[0;31mAttributeError\u001b[0m: 'dict' object has no attribute 'format'"
     ]
    }
   ],
   "source": [
    "print({}.format(tup))"
   ]
  },
  {
   "cell_type": "code",
   "execution_count": 20,
   "metadata": {
    "collapsed": false
   },
   "outputs": [
    {
     "name": "stdout",
     "output_type": "stream",
     "text": [
      "('1', '2')\n"
     ]
    }
   ],
   "source": [
    "tup = ('1', '2')\n",
    "print(tup)"
   ]
  },
  {
   "cell_type": "code",
   "execution_count": 22,
   "metadata": {
    "collapsed": false
   },
   "outputs": [
    {
     "name": "stdout",
     "output_type": "stream",
     "text": [
      "1 2\n"
     ]
    }
   ],
   "source": [
    "print('{} {}'.format(tup[0],tup[1]))"
   ]
  },
  {
   "cell_type": "code",
   "execution_count": 23,
   "metadata": {
    "collapsed": true
   },
   "outputs": [],
   "source": [
    "printer = lambda tup: print('{} {}'.format(tup[0],tup[1]))"
   ]
  },
  {
   "cell_type": "code",
   "execution_count": 24,
   "metadata": {
    "collapsed": false
   },
   "outputs": [
    {
     "name": "stdout",
     "output_type": "stream",
     "text": [
      "1 2\n"
     ]
    }
   ],
   "source": [
    "printer(tup)"
   ]
  },
  {
   "cell_type": "code",
   "execution_count": null,
   "metadata": {
    "collapsed": true
   },
   "outputs": [],
   "source": []
  }
 ],
 "metadata": {
  "kernelspec": {
   "display_name": "Python 3",
   "language": "python",
   "name": "python3"
  },
  "language_info": {
   "codemirror_mode": {
    "name": "ipython",
    "version": 3
   },
   "file_extension": ".py",
   "mimetype": "text/x-python",
   "name": "python",
   "nbconvert_exporter": "python",
   "pygments_lexer": "ipython3",
   "version": "3.4.4"
  }
 },
 "nbformat": 4,
 "nbformat_minor": 0
}
