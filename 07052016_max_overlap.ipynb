{
 "cells": [
  {
   "cell_type": "code",
   "execution_count": 1,
   "metadata": {
    "collapsed": true
   },
   "outputs": [],
   "source": [
    "import numpy as np"
   ]
  },
  {
   "cell_type": "code",
   "execution_count": 3,
   "metadata": {
    "collapsed": true
   },
   "outputs": [],
   "source": [
    "one = \"ATTAGACCTG\"\n",
    "two = \"AGACCTGCCG\""
   ]
  },
  {
   "cell_type": "code",
   "execution_count": 5,
   "metadata": {
    "collapsed": false
   },
   "outputs": [],
   "source": [
    "a = np.array([x for x in one])\n",
    "b = np.vstack([x for x in two])\n",
    "compared = a==b"
   ]
  },
  {
   "cell_type": "code",
   "execution_count": 6,
   "metadata": {
    "collapsed": false
   },
   "outputs": [
    {
     "data": {
      "text/plain": [
       "array([[ True, False, False,  True, False,  True, False, False, False,\n",
       "        False],\n",
       "       [False, False, False, False,  True, False, False, False, False,\n",
       "         True],\n",
       "       [ True, False, False,  True, False,  True, False, False, False,\n",
       "        False],\n",
       "       [False, False, False, False, False, False,  True,  True, False,\n",
       "        False],\n",
       "       [False, False, False, False, False, False,  True,  True, False,\n",
       "        False],\n",
       "       [False,  True,  True, False, False, False, False, False,  True,\n",
       "        False],\n",
       "       [False, False, False, False,  True, False, False, False, False,\n",
       "         True],\n",
       "       [False, False, False, False, False, False,  True,  True, False,\n",
       "        False],\n",
       "       [False, False, False, False, False, False,  True,  True, False,\n",
       "        False],\n",
       "       [False, False, False, False,  True, False, False, False, False,\n",
       "         True]], dtype=bool)"
      ]
     },
     "execution_count": 6,
     "metadata": {},
     "output_type": "execute_result"
    }
   ],
   "source": [
    "compared"
   ]
  },
  {
   "cell_type": "code",
   "execution_count": 7,
   "metadata": {
    "collapsed": false
   },
   "outputs": [
    {
     "data": {
      "text/plain": [
       "10"
      ]
     },
     "execution_count": 7,
     "metadata": {},
     "output_type": "execute_result"
    }
   ],
   "source": [
    "max_diag = max(len(a), len(b))\n",
    "max_diag"
   ]
  },
  {
   "cell_type": "code",
   "execution_count": 35,
   "metadata": {
    "collapsed": false
   },
   "outputs": [],
   "source": [
    "bestsofar = (0,0)\n",
    "def test_max(max_diag, bestsofar):\n",
    "    \n",
    "    for i in range(max_diag):\n",
    "        endsmatch = np.diagonal(compared, offset=i)\n",
    "        print(\"above {}\".format(endsmatch))\n",
    "\n",
    "        maxhere = list(endsmatch).count(True)\n",
    "        print(maxhere)\n",
    "\n",
    "        if maxhere > bestsofar[1]:\n",
    "            bestsofar = (i, maxhere)\n",
    "\n",
    "        print(bestsofar)\n",
    "\n",
    "        otherendsmatch = np.diagonal(compared, offset=-i)\n",
    "        print(\"below {}\".format(otherendsmatch))\n",
    "\n",
    "        maxthere = list(otherendsmatch).count(True)\n",
    "        print(maxthere)\n",
    "\n",
    "        if maxthere > bestsofar[1]:\n",
    "            bestsofar = (-i, maxthere)\n",
    "\n",
    "        print(bestsofar)\n",
    "\n",
    "    return bestsofar"
   ]
  },
  {
   "cell_type": "code",
   "execution_count": 36,
   "metadata": {
    "collapsed": false
   },
   "outputs": [
    {
     "name": "stdout",
     "output_type": "stream",
     "text": [
      "above [ True False False False False False False  True False  True]\n",
      "3\n",
      "(0, 3)\n",
      "below [ True False False False False False False  True False  True]\n",
      "3\n",
      "(0, 3)\n",
      "above [False False  True False False False False False False]\n",
      "1\n",
      "(0, 3)\n",
      "below [False False False False False False  True  True False]\n",
      "2\n",
      "(0, 3)\n",
      "above [False False False False  True False False False]\n",
      "1\n",
      "(0, 3)\n",
      "below [ True False False False  True False  True False]\n",
      "3\n",
      "(0, 3)\n",
      "above [ True  True  True  True  True  True  True]\n",
      "7\n",
      "(3, 7)\n",
      "below [False False  True False False False False]\n",
      "1\n",
      "(3, 7)\n",
      "above [False False False  True False False]\n",
      "1\n",
      "(3, 7)\n",
      "below [False  True False False False False]\n",
      "1\n",
      "(3, 7)\n",
      "above [ True False False False False]\n",
      "1\n",
      "(3, 7)\n",
      "below [False False False False  True]\n",
      "1\n",
      "(3, 7)\n",
      "above [False False False False]\n",
      "0\n",
      "(3, 7)\n",
      "below [False False False False]\n",
      "0\n",
      "(3, 7)\n",
      "above [False False False]\n",
      "0\n",
      "(3, 7)\n",
      "below [False False False]\n",
      "0\n",
      "(3, 7)\n",
      "above [False  True]\n",
      "1\n",
      "(3, 7)\n",
      "below [False False]\n",
      "0\n",
      "(3, 7)\n",
      "above [False]\n",
      "0\n",
      "(3, 7)\n",
      "below [False]\n",
      "0\n",
      "(3, 7)\n"
     ]
    }
   ],
   "source": [
    "bestsofar = test_max(max_diag, bestsofar)"
   ]
  },
  {
   "cell_type": "code",
   "execution_count": 37,
   "metadata": {
    "collapsed": false
   },
   "outputs": [
    {
     "data": {
      "text/plain": [
       "(3, 7)"
      ]
     },
     "execution_count": 37,
     "metadata": {},
     "output_type": "execute_result"
    }
   ],
   "source": [
    "bestsofar"
   ]
  },
  {
   "cell_type": "code",
   "execution_count": 16,
   "metadata": {
    "collapsed": false
   },
   "outputs": [
    {
     "data": {
      "text/plain": [
       "3"
      ]
     },
     "execution_count": 16,
     "metadata": {},
     "output_type": "execute_result"
    }
   ],
   "source": [
    "list(np.diagonal(compared)).count(True)"
   ]
  },
  {
   "cell_type": "code",
   "execution_count": 17,
   "metadata": {
    "collapsed": false
   },
   "outputs": [
    {
     "data": {
      "text/plain": [
       "array([ True,  True,  True,  True,  True,  True,  True], dtype=bool)"
      ]
     },
     "execution_count": 17,
     "metadata": {},
     "output_type": "execute_result"
    }
   ],
   "source": [
    "np.diagonal(compared, offset=3)"
   ]
  },
  {
   "cell_type": "code",
   "execution_count": 42,
   "metadata": {
    "collapsed": true
   },
   "outputs": [],
   "source": [
    "def count_sequential(listofbool):\n",
    "    \"\"\"\n",
    "    Easy to count total True values using built-in. \n",
    "    Want to count longest sequential run of True values. \n",
    "    \n",
    "    >>> count_sequential([True, True, True, False])\n",
    "    3\n",
    "    >>> count_sequential([True, True, True, False, True, True])\n",
    "    3\n",
    "    \n",
    "    \"\"\"\n",
    "    count = 0\n",
    "    bestsofar = 0\n",
    "    for x in listofbool:\n",
    "        if x!=True:\n",
    "            bestsofar = count\n",
    "            count = 0\n",
    "        elif x==True:\n",
    "            count += 1\n",
    "    return bestsofar\n"
   ]
  },
  {
   "cell_type": "code",
   "execution_count": 43,
   "metadata": {
    "collapsed": false
   },
   "outputs": [
    {
     "data": {
      "text/plain": [
       "TestResults(failed=0, attempted=2)"
      ]
     },
     "execution_count": 43,
     "metadata": {},
     "output_type": "execute_result"
    }
   ],
   "source": [
    "import doctest\n",
    "doctest.testmod()"
   ]
  },
  {
   "cell_type": "code",
   "execution_count": 52,
   "metadata": {
    "collapsed": true
   },
   "outputs": [],
   "source": [
    "test = [True, True, True, False]"
   ]
  },
  {
   "cell_type": "code",
   "execution_count": 53,
   "metadata": {
    "collapsed": false
   },
   "outputs": [
    {
     "data": {
      "text/plain": [
       "False"
      ]
     },
     "execution_count": 53,
     "metadata": {},
     "output_type": "execute_result"
    }
   ],
   "source": [
    "list(reversed(test))[0]"
   ]
  },
  {
   "cell_type": "code",
   "execution_count": 46,
   "metadata": {
    "collapsed": true
   },
   "outputs": [],
   "source": [
    "test = [False, False, False, True]"
   ]
  },
  {
   "cell_type": "code",
   "execution_count": 48,
   "metadata": {
    "collapsed": false
   },
   "outputs": [
    {
     "data": {
      "text/plain": [
       "True"
      ]
     },
     "execution_count": 48,
     "metadata": {},
     "output_type": "execute_result"
    }
   ],
   "source": [
    "test[0] == False"
   ]
  },
  {
   "cell_type": "code",
   "execution_count": null,
   "metadata": {
    "collapsed": true
   },
   "outputs": [],
   "source": []
  }
 ],
 "metadata": {
  "kernelspec": {
   "display_name": "Python 3",
   "language": "python",
   "name": "python3"
  },
  "language_info": {
   "codemirror_mode": {
    "name": "ipython",
    "version": 3
   },
   "file_extension": ".py",
   "mimetype": "text/x-python",
   "name": "python",
   "nbconvert_exporter": "python",
   "pygments_lexer": "ipython3",
   "version": "3.4.4"
  }
 },
 "nbformat": 4,
 "nbformat_minor": 0
}
